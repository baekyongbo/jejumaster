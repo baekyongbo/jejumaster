{
  "cells": [
    {
      "cell_type": "markdown",
      "metadata": {
        "id": "view-in-github",
        "colab_type": "text"
      },
      "source": [
        "<a href=\"https://colab.research.google.com/github/baekyongbo/jejumaster/blob/main/3%EC%9D%BC%EC%B0%A8_%EC%9B%B9%EB%8D%B0%EC%9D%B4%ED%84%B0%EB%B6%84%EC%84%9D_01_OpenAPI%EB%A5%BC%EC%9D%B4%EC%9A%A9%ED%95%9C%EB%8D%B0%EC%9D%B4%ED%84%B0%EC%88%98%EC%A7%91_%EC%99%84%EC%84%B1.ipynb\" target=\"_parent\"><img src=\"https://colab.research.google.com/assets/colab-badge.svg\" alt=\"Open In Colab\"/></a>"
      ]
    },
    {
      "cell_type": "markdown",
      "id": "46265587",
      "metadata": {
        "id": "46265587"
      },
      "source": [
        "# 웹 데이터 분석\n",
        "\n",
        "## 1. OpenAPI를 이용한 데이터 수집"
      ]
    },
    {
      "cell_type": "markdown",
      "id": "6d0c04ae",
      "metadata": {
        "id": "6d0c04ae"
      },
      "source": [
        "---"
      ]
    },
    {
      "cell_type": "markdown",
      "id": "84025ef7",
      "metadata": {
        "id": "84025ef7"
      },
      "source": [
        "### 자신의 PC 폰트 목록 가져오기"
      ]
    },
    {
      "cell_type": "code",
      "execution_count": null,
      "id": "349e1884",
      "metadata": {
        "id": "349e1884"
      },
      "outputs": [],
      "source": [
        "#(Mac) 폰트 목록 가져오기\n",
        "import matplotlib.font_manager as fm\n",
        "\n",
        "font_list_mac = fm.OSXInstalledFonts()\n",
        "print(f'Mac 폰트 목록 : {font_list_mac}')"
      ]
    },
    {
      "cell_type": "code",
      "execution_count": null,
      "id": "1a61398b",
      "metadata": {
        "id": "1a61398b"
      },
      "outputs": [],
      "source": [
        "#(windows) 폰트 목록 가져오기\n",
        "import matplotlib.font_manager as fm\n",
        "font_list_win = fm.findSystemFonts(fontpaths=None, fontext='ttf')\n",
        "print(f'windows 폰트 목록 : {font_list_win}')"
      ]
    },
    {
      "cell_type": "code",
      "execution_count": null,
      "id": "c84d5fc3",
      "metadata": {
        "id": "c84d5fc3"
      },
      "outputs": [],
      "source": [
        "import matplotlib.pyplot as plt\n",
        "#(Mac한글 폰트 지정하기)\n",
        "# plt.rcParams['font.family'] =\n",
        "\n",
        "#(windows)한글 폰트 지정하기\n",
        "plt.rcParams['font.family'] = 'Malgun Gothic'"
      ]
    },
    {
      "cell_type": "markdown",
      "id": "d6f0d8f4",
      "metadata": {
        "id": "d6f0d8f4"
      },
      "source": [
        "### 라이브러리 설치하기"
      ]
    },
    {
      "cell_type": "code",
      "execution_count": null,
      "id": "51bbff90",
      "metadata": {
        "id": "51bbff90",
        "outputId": "f86bda04-5818-4c9f-dfa1-0d1f4d622e0c"
      },
      "outputs": [
        {
          "name": "stdout",
          "output_type": "stream",
          "text": [
            "Requirement already satisfied: requests in c:\\python\\python310\\lib\\site-packages (2.28.2)\n",
            "Requirement already satisfied: charset-normalizer<4,>=2 in c:\\python\\python310\\lib\\site-packages (from requests) (2.0.7)\n",
            "Requirement already satisfied: idna<4,>=2.5 in c:\\python\\python310\\lib\\site-packages (from requests) (2.10)\n",
            "Requirement already satisfied: urllib3<1.27,>=1.21.1 in c:\\python\\python310\\lib\\site-packages (from requests) (1.26.7)\n",
            "Requirement already satisfied: certifi>=2017.4.17 in c:\\python\\python310\\lib\\site-packages (from requests) (2021.10.8)\n"
          ]
        },
        {
          "name": "stderr",
          "output_type": "stream",
          "text": [
            "WARNING: There was an error checking the latest version of pip.\n"
          ]
        }
      ],
      "source": [
        "# 정적 크롤링을 위한 requests 설치\n",
        "!pip install requests"
      ]
    },
    {
      "cell_type": "markdown",
      "id": "b6208605",
      "metadata": {
        "id": "b6208605"
      },
      "source": [
        "### 01.웹 크롤링의 이해\n",
        "- **웹 크롤링(Web Crawling)**: 웹 페이지로부터 원하는 정보를 추출하는 기법, 보통 여러 페이지 탐색하는 방법,\n",
        "- **웹 스크래핑(Web Scraping)**: 특정한 하나의 웹 페이지를 탐색하는 방법\n",
        "- **웹 크롤링과 웹 스크래핑의  방법이 동일하여 보통 웹 크롤링이라고 통칭해서 부른다.**"
      ]
    },
    {
      "cell_type": "markdown",
      "id": "4aae7203",
      "metadata": {
        "id": "4aae7203"
      },
      "source": [
        "---------------------"
      ]
    },
    {
      "cell_type": "markdown",
      "id": "f4f12800",
      "metadata": {
        "id": "f4f12800"
      },
      "source": [
        "## 02.네이버 OpenAPI 사용하기"
      ]
    },
    {
      "cell_type": "markdown",
      "id": "db60e9f8",
      "metadata": {
        "id": "db60e9f8"
      },
      "source": [
        "### # 1.네이버 OpenAPI 신청하기 : 네이버 **검색(책, 뉴스)\n",
        "\n",
        "- 네이버 OpenAPI 소개: https://developers.naver.com/products/intro/plan/\n",
        "- 개발 가이드 보기: https://developers.naver.com/docs/serviceapi/search/news\n",
        "- OpenAPI 신청하기: https://developers.naver.com/apps/#/register"
      ]
    },
    {
      "cell_type": "markdown",
      "id": "6093ed93",
      "metadata": {
        "id": "6093ed93"
      },
      "source": [
        "### # 2.네이버 OpenAPI 사용 예 : 책 검색"
      ]
    },
    {
      "cell_type": "markdown",
      "id": "0245934c",
      "metadata": {
        "id": "0245934c"
      },
      "source": [
        "### [실습] : 네이버 검색 API 사용하여 데이터 수집하기"
      ]
    },
    {
      "cell_type": "code",
      "execution_count": null,
      "id": "03fe1289",
      "metadata": {
        "scrolled": false,
        "id": "03fe1289",
        "outputId": "b7c83e52-6ed4-492c-fecf-c887ec39445b"
      },
      "outputs": [
        {
          "name": "stdout",
          "output_type": "stream",
          "text": [
            "-----------------------------\n",
            "    네이버 검색 대상입니다.\n",
            "      1.book,  2.news,  3.shop\n",
            "    -----------------------------\n",
            "번호를 선택하세요.3\n",
            "shop 검색할 검색어를 입력하세요: 여성니트\n",
            "[2023년10월22일 21시27분55초] Url Request Success\n",
            "HTTP Error 400: Bad Request\n",
            "[2023년10월22일 21시27분55초] Error for URL : https://openapi.naver.com/v1/search/shop.json?query=%EC%97%AC%EC%84%B1%EB%8B%88%ED%8A%B8&start=101&display=18760172\n",
            "가져온 데이터 : 100 건\n",
            "./data/naver_shop_여성니트.csv SAVED\n"
          ]
        },
        {
          "data": {
            "text/html": [
              "<div>\n",
              "<style scoped>\n",
              "    .dataframe tbody tr th:only-of-type {\n",
              "        vertical-align: middle;\n",
              "    }\n",
              "\n",
              "    .dataframe tbody tr th {\n",
              "        vertical-align: top;\n",
              "    }\n",
              "\n",
              "    .dataframe thead th {\n",
              "        text-align: right;\n",
              "    }\n",
              "</style>\n",
              "<table border=\"1\" class=\"dataframe\">\n",
              "  <thead>\n",
              "    <tr style=\"text-align: right;\">\n",
              "      <th></th>\n",
              "      <th>제목</th>\n",
              "      <th>브랜드</th>\n",
              "      <th>제조사</th>\n",
              "      <th>가격</th>\n",
              "      <th>이미지</th>\n",
              "    </tr>\n",
              "  </thead>\n",
              "  <tbody>\n",
              "    <tr>\n",
              "      <th>0</th>\n",
              "      <td>부드러운 기본 블랙 핑크 23컬러 가을 간절기 데일리 캐시미어 라운드 &lt;b&gt;여성 니...</td>\n",
              "      <td></td>\n",
              "      <td></td>\n",
              "      <td>19100</td>\n",
              "      <td>https://shopping-phinf.pstatic.net/main_811054...</td>\n",
              "    </tr>\n",
              "    <tr>\n",
              "      <th>1</th>\n",
              "      <td>루즈핏 반폴라 캐시미어니트 여성 목폴라 니트 반목 폴라 &lt;b&gt;여자니트&lt;/b&gt;티 가을...</td>\n",
              "      <td></td>\n",
              "      <td></td>\n",
              "      <td>19800</td>\n",
              "      <td>https://shopping-phinf.pstatic.net/main_822705...</td>\n",
              "    </tr>\n",
              "    <tr>\n",
              "      <th>2</th>\n",
              "      <td>부드러운 루즈핏 캐시미어니트 간절기 가을 라운드 브이넥니트 긴팔 &lt;b&gt;여성니트&lt;/b...</td>\n",
              "      <td></td>\n",
              "      <td></td>\n",
              "      <td>18400</td>\n",
              "      <td>https://shopping-phinf.pstatic.net/main_820167...</td>\n",
              "    </tr>\n",
              "    <tr>\n",
              "      <th>3</th>\n",
              "      <td>벤시몽 23FW &lt;b&gt;여성&lt;/b&gt; 케이블 &lt;b&gt;니트&lt;/b&gt; 풀오버 3종</td>\n",
              "      <td>벤시몽</td>\n",
              "      <td></td>\n",
              "      <td>63400</td>\n",
              "      <td>https://shopping-phinf.pstatic.net/main_423913...</td>\n",
              "    </tr>\n",
              "    <tr>\n",
              "      <th>4</th>\n",
              "      <td>&lt;b&gt;여성니트&lt;/b&gt;티 비스코스 목폴라니트 하프넥 반폴라니트 캐시미어 반목폴라</td>\n",
              "      <td></td>\n",
              "      <td></td>\n",
              "      <td>18800</td>\n",
              "      <td>https://shopping-phinf.pstatic.net/main_106595...</td>\n",
              "    </tr>\n",
              "    <tr>\n",
              "      <th>...</th>\n",
              "      <td>...</td>\n",
              "      <td>...</td>\n",
              "      <td>...</td>\n",
              "      <td>...</td>\n",
              "      <td>...</td>\n",
              "    </tr>\n",
              "    <tr>\n",
              "      <th>95</th>\n",
              "      <td>나인 로더 부클 자수 블루종 &lt;b&gt;니트&lt;/b&gt; T 6537</td>\n",
              "      <td>나인</td>\n",
              "      <td>바이와이제이</td>\n",
              "      <td>48929</td>\n",
              "      <td>https://shopping-phinf.pstatic.net/main_342753...</td>\n",
              "    </tr>\n",
              "    <tr>\n",
              "      <th>96</th>\n",
              "      <td>폴로랄프로렌 케이블 &lt;b&gt;니트&lt;/b&gt; &lt;b&gt;여자&lt;/b&gt; 긴팔 폴로 꽈배기 라운드넥 ...</td>\n",
              "      <td>폴로랄프로렌</td>\n",
              "      <td>폴로랄프로렌</td>\n",
              "      <td>163000</td>\n",
              "      <td>https://shopping-phinf.pstatic.net/main_829268...</td>\n",
              "    </tr>\n",
              "    <tr>\n",
              "      <th>97</th>\n",
              "      <td>커버낫 &lt;b&gt;우먼 니트&lt;/b&gt; 후디 집업 차콜 CO2304KT64CH</td>\n",
              "      <td>커버낫</td>\n",
              "      <td></td>\n",
              "      <td>120690</td>\n",
              "      <td>https://shopping-phinf.pstatic.net/main_429238...</td>\n",
              "    </tr>\n",
              "    <tr>\n",
              "      <th>98</th>\n",
              "      <td>타미힐피거 &lt;b&gt;여자&lt;/b&gt; 꽈배기 케이블 &lt;b&gt;니트&lt;/b&gt; 코튼 라운드넥 긴팔 티...</td>\n",
              "      <td>타미힐피거</td>\n",
              "      <td>타미힐피거</td>\n",
              "      <td>68000</td>\n",
              "      <td>https://shopping-phinf.pstatic.net/main_866018...</td>\n",
              "    </tr>\n",
              "    <tr>\n",
              "      <th>99</th>\n",
              "      <td>203346 로던 LODERN 23FW &lt;b&gt;여성&lt;/b&gt; 코튼100 케이블 &lt;b&gt;니...</td>\n",
              "      <td></td>\n",
              "      <td></td>\n",
              "      <td>41650</td>\n",
              "      <td>https://shopping-phinf.pstatic.net/main_423913...</td>\n",
              "    </tr>\n",
              "  </tbody>\n",
              "</table>\n",
              "<p>100 rows × 5 columns</p>\n",
              "</div>"
            ],
            "text/plain": [
              "                                                   제목     브랜드     제조사      가격  \\\n",
              "0   부드러운 기본 블랙 핑크 23컬러 가을 간절기 데일리 캐시미어 라운드 <b>여성 니...                   19100   \n",
              "1   루즈핏 반폴라 캐시미어니트 여성 목폴라 니트 반목 폴라 <b>여자니트</b>티 가을...                   19800   \n",
              "2   부드러운 루즈핏 캐시미어니트 간절기 가을 라운드 브이넥니트 긴팔 <b>여성니트</b...                   18400   \n",
              "3             벤시몽 23FW <b>여성</b> 케이블 <b>니트</b> 풀오버 3종     벤시몽           63400   \n",
              "4         <b>여성니트</b>티 비스코스 목폴라니트 하프넥 반폴라니트 캐시미어 반목폴라                   18800   \n",
              "..                                                ...     ...     ...     ...   \n",
              "95                   나인 로더 부클 자수 블루종 <b>니트</b> T 6537      나인  바이와이제이   48929   \n",
              "96  폴로랄프로렌 케이블 <b>니트</b> <b>여자</b> 긴팔 폴로 꽈배기 라운드넥 ...  폴로랄프로렌  폴로랄프로렌  163000   \n",
              "97             커버낫 <b>우먼 니트</b> 후디 집업 차콜 CO2304KT64CH     커버낫          120690   \n",
              "98  타미힐피거 <b>여자</b> 꽈배기 케이블 <b>니트</b> 코튼 라운드넥 긴팔 티...   타미힐피거   타미힐피거   68000   \n",
              "99  203346 로던 LODERN 23FW <b>여성</b> 코튼100 케이블 <b>니...                   41650   \n",
              "\n",
              "                                                  이미지  \n",
              "0   https://shopping-phinf.pstatic.net/main_811054...  \n",
              "1   https://shopping-phinf.pstatic.net/main_822705...  \n",
              "2   https://shopping-phinf.pstatic.net/main_820167...  \n",
              "3   https://shopping-phinf.pstatic.net/main_423913...  \n",
              "4   https://shopping-phinf.pstatic.net/main_106595...  \n",
              "..                                                ...  \n",
              "95  https://shopping-phinf.pstatic.net/main_342753...  \n",
              "96  https://shopping-phinf.pstatic.net/main_829268...  \n",
              "97  https://shopping-phinf.pstatic.net/main_429238...  \n",
              "98  https://shopping-phinf.pstatic.net/main_866018...  \n",
              "99  https://shopping-phinf.pstatic.net/main_423913...  \n",
              "\n",
              "[100 rows x 5 columns]"
            ]
          },
          "execution_count": 12,
          "metadata": {},
          "output_type": "execute_result"
        }
      ],
      "source": [
        "import os\n",
        "import sys\n",
        "import urllib.request\n",
        "import datetime\n",
        "import time\n",
        "import json\n",
        "import pandas as pd\n",
        "\n",
        "now = datetime.datetime.now()\n",
        "datas = []   #csv파일을 위한 변수\n",
        "\n",
        "client_id = '자신의 client_id'  # 자신의 client_id\n",
        "client_pw = '자신의 client_secret'            # 자신의 client_secret\n",
        "\n",
        "\n",
        "#[CODE 1]\n",
        "def get_RequestUrl(url):\n",
        "    req = urllib.request.Request(url)\n",
        "    req.add_header(\"X-Naver-Client-Id\", client_id)\n",
        "    req.add_header(\"X-Naver-Client-Secret\", client_pw)\n",
        "\n",
        "    try:\n",
        "        response = urllib.request.urlopen(req)\n",
        "        if response.getcode() == 200:\n",
        "            print(f\"[{now.strftime('%Y년%m월%d일 %H시%M분%S초')}] Url Request Success\")\n",
        "            return response.read().decode('utf-8')\n",
        "\n",
        "    except Exception as e:\n",
        "#         if response.getcode() == 400 and datas:\n",
        "#             return None\n",
        "        print(e)\n",
        "        print(f\"[{now.strftime('%Y년%m월%d일 %H시%M분%S초')}] Error for URL : {url}\" )\n",
        "        return None\n",
        "\n",
        "\n",
        "#[CODE 2]  네이버 검색 API\n",
        "def get_NaverSearch(node, srcText, start, display):\n",
        "    base = \"https://openapi.naver.com/v1/search\"\n",
        "    node = \"/%s.json\" % node\n",
        "    parameters = \"?query=%s&start=%s&display=%s\" % (urllib.parse.quote(srcText), start, display)\n",
        "\n",
        "    url = base + node + parameters\n",
        "    responseDecode = get_RequestUrl(url)   #[CODE 1]\n",
        "\n",
        "    if (responseDecode == None):\n",
        "        return None\n",
        "    else:\n",
        "        return json.loads(responseDecode)\n",
        "\n",
        "#[CODE 3]\n",
        "def get_PostData(node, post, jsonResult, cnt):\n",
        "    if node == 'book':\n",
        "        data = {'제목':post['title'],\n",
        "                '저자':post['author'],\n",
        "                '출판사':post['publisher'],\n",
        "                '출간일':post['pubdate'],\n",
        "                '링크':post['link'],\n",
        "                '이미지':post['image']}\n",
        "    elif node == 'news':\n",
        "        data = {'제목':post['title'],\n",
        "                '링크':post['originallink'],\n",
        "                '내용':post['description']}\n",
        "    elif node == 'shop':\n",
        "        data = {'제목':post['title'],\n",
        "                '브랜드':post['brand'],\n",
        "                '제조사':post['maker'],\n",
        "                '가격':post['lprice'],\n",
        "                '이미지':post['image']}\n",
        "\n",
        "    jsonResult.append(data)\n",
        "    datas.append(data)\n",
        "\n",
        "    return\n",
        "\n",
        "#[CODE 0]\n",
        "def main():\n",
        "    nodeType = '''-----------------------------\n",
        "    네이버 검색 대상입니다.\n",
        "      1.book,  2.news,  3.shop\n",
        "    -----------------------------'''\n",
        "    print(nodeType)\n",
        "    node = input('번호를 선택하세요.')\n",
        "    if node == '1': node = 'book'\n",
        "    elif node == '2': node = 'news'\n",
        "    elif node == '3': node = 'shop'\n",
        "\n",
        "    srcText = input(f'{node} 검색할 검색어를 입력하세요: ')\n",
        "\n",
        "    display, cnt = 100, 0\n",
        "    jsonResult = []\n",
        "    jsonResponse = get_NaverSearch(node, srcText, 1, display)  #[CODE 2]\n",
        "    total = jsonResponse['total']\n",
        "\n",
        "    while ((jsonResponse != None) and (jsonResponse['display'] != 0)):\n",
        "        for post in jsonResponse['items']:\n",
        "            cnt += 1\n",
        "            get_PostData(node, post, jsonResult, cnt)  #[CODE 3]\n",
        "\n",
        "        start = jsonResponse['start'] + jsonResponse['display']\n",
        "        jsonResponse = get_NaverSearch(node, srcText, start, total)\n",
        "#     print(f'가져올 데이터 : {total} 건')\n",
        "\n",
        "    with open(f'./data/naver_{node}_{srcText}', 'w', encoding='utf8') as outfile:\n",
        "        jsonFile = json.dumps(jsonResult,  indent=4, sort_keys=True,  ensure_ascii=False)\n",
        "\n",
        "        outfile.write(jsonFile)\n",
        "\n",
        "    print(\"가져온 데이터 : %d 건\" %(cnt))\n",
        "\n",
        "\n",
        "\n",
        "    # csv 파일로 저장하기\n",
        "    file = f'./data/naver_{node}_{srcText}.csv'\n",
        "    df = pd.DataFrame(datas)\n",
        "    df.to_csv(file, index=False, encoding=\"utf-8-sig\")\n",
        "    print(f'./data/naver_{node}_{srcText}.csv SAVED')\n",
        "    return df\n",
        "\n",
        "#-----------\n",
        "# 시작\n",
        "#-----------\n",
        "df = main()\n",
        "df"
      ]
    },
    {
      "cell_type": "markdown",
      "id": "7a27fa6d",
      "metadata": {
        "id": "7a27fa6d"
      },
      "source": [
        "### [실습] :  네이버 Papago API 사용하여 번역하기"
      ]
    },
    {
      "cell_type": "code",
      "execution_count": null,
      "id": "c8b6e522",
      "metadata": {
        "scrolled": true,
        "id": "c8b6e522",
        "outputId": "98943958-a05b-486b-a6ca-2f5964c1409e"
      },
      "outputs": [
        {
          "name": "stdout",
          "output_type": "stream",
          "text": [
            "[선택] 1:한글->영어, 2:영어->한글: 2\n",
            "[번역] 변환할 문장을 입력하세요[영어]Data analysis is so much fun.\n",
            "# 입력 문자 => Data analysis is so much fun.\n",
            "[2023년10월22일 21시00분12초] Url Request Success\n",
            "--------------------------------------------------\n",
            "# 번역 결과 => 데이터 분석은 정말 재미있다.\n"
          ]
        }
      ],
      "source": [
        "import os\n",
        "import sys\n",
        "import urllib.request\n",
        "import datetime\n",
        "import json\n",
        "\n",
        "\n",
        "# client_id = ''  # 자신의 파파고 NMT API ID\n",
        "# client_pw = ''            # 자신의 파파고 NMT API PASSWORD\n",
        "\n",
        "news = []   #csv파일을 위한 변수\n",
        "\n",
        "#[CODE 1]\n",
        "def papago(prompt, lang=1):\n",
        "\n",
        "    encText = urllib.parse.quote(prompt)\n",
        "    if lang == 1 :\n",
        "        data = \"source=ko&target=en&text=\" + encText\n",
        "    else:\n",
        "        data = \"source=en&target=ko&text=\" + encText\n",
        "    url = \"https://openapi.naver.com/v1/papago/n2mt\"\n",
        "\n",
        "    req = urllib.request.Request(url)\n",
        "    req.add_header(\"X-Naver-Client-Id\", client_id)\n",
        "    req.add_header(\"X-Naver-Client-Secret\", client_pw)\n",
        "\n",
        "    try:\n",
        "        response = urllib.request.urlopen(req, data=data.encode(\"utf-8\") )\n",
        "        if response.getcode() == 200:\n",
        "            print(f\"[{now.strftime('%Y년%m월%d일 %H시%M분%S초')}] Url Request Success\")\n",
        "            responseDecode = response.read().decode('utf-8')\n",
        "\n",
        "            if responseDecode == None:\n",
        "                return None\n",
        "            else:\n",
        "                return json.loads(responseDecode)\n",
        "\n",
        "    except Exception as e:\n",
        "        print(e)\n",
        "        print(\"[%s] Error for URL : %s\" % (datetime.datetime.now(), url))\n",
        "        return None\n",
        "\n",
        "# 메인\n",
        "lang= int(input('[선택] 1:한글->영어, 2:영어->한글: '))\n",
        "txt =  '한글' if lang==1 else '영어'\n",
        "prompt= input(f'[번역] 변환할 문장을 입력하세요[{txt}]')\n",
        "print(f'# 입력 문자 => {prompt}')\n",
        "\n",
        "jsonResponse = papago(prompt, lang)  # 파파고 번역\n",
        "jsonResponse\n",
        "print('-'*50)\n",
        "print(f\"# 번역 결과 => {jsonResponse['message']['result']['translatedText']}\")\n"
      ]
    },
    {
      "cell_type": "markdown",
      "id": "aa56f180",
      "metadata": {
        "id": "aa56f180"
      },
      "source": [
        "-------------------------"
      ]
    },
    {
      "cell_type": "markdown",
      "id": "59fa45de",
      "metadata": {
        "id": "59fa45de"
      },
      "source": [
        "## 03.웹 이미지 수집하기"
      ]
    },
    {
      "cell_type": "markdown",
      "id": "44d3fd31",
      "metadata": {
        "id": "44d3fd31"
      },
      "source": [
        "### # 1. 웹 이미지 화면에 출력하기"
      ]
    },
    {
      "cell_type": "code",
      "execution_count": null,
      "id": "337a091d",
      "metadata": {
        "scrolled": true,
        "id": "337a091d",
        "outputId": "2c54b761-945b-42c8-a943-4c80f06ffe01"
      },
      "outputs": [
        {
          "data": {
            "text/html": [
              "<img src=\"https://shopping-phinf.pstatic.net/main_3815224/38152244716.20230516165404.jpg\"/>"
            ],
            "text/plain": [
              "<IPython.core.display.Image object>"
            ]
          },
          "execution_count": 8,
          "metadata": {},
          "output_type": "execute_result"
        }
      ],
      "source": [
        "from IPython.display import Image\n",
        "Image(url='https://shopping-phinf.pstatic.net/main_3815224/38152244716.20230516165404.jpg')"
      ]
    },
    {
      "cell_type": "markdown",
      "id": "0680e362",
      "metadata": {
        "id": "0680e362"
      },
      "source": [
        "### # 2.  웹 이미지 파일로 저장하기"
      ]
    },
    {
      "cell_type": "code",
      "execution_count": null,
      "id": "a580299b",
      "metadata": {
        "id": "a580299b"
      },
      "outputs": [],
      "source": [
        "import requests\n",
        "from io import BytesIO\n",
        "from PIL import Image\n",
        "\n",
        "# 다운받을 이미지 url\n",
        "urls = [\n",
        "    \"https://shopping-phinf.pstatic.net/main_3815224/38152244716.20230516165404.jpg\",\n",
        "    \"https://shopping-phinf.pstatic.net/main_3726611/37266116619.20230119071117.jpg\"\n",
        "]\n",
        "for idx, url in enumerate(urls):\n",
        "    res = requests.get(url)                   # url 요청\n",
        "    img = Image.open(BytesIO(res.content))    # 응답결과(res.content)바이트파일 이미지 파일로 오픈\n",
        "    img.save(f'./testimg_{idx}.png', 'png')   # 'png'이미지로(만) 저장"
      ]
    },
    {
      "cell_type": "markdown",
      "id": "cfdf3dbf",
      "metadata": {
        "id": "cfdf3dbf"
      },
      "source": [
        "### [실습] : 웹 이미지 수집하기"
      ]
    },
    {
      "cell_type": "code",
      "execution_count": null,
      "id": "9cc4ce14",
      "metadata": {
        "id": "9cc4ce14",
        "outputId": "a300bbb6-d0ce-4e10-b760-64073737a5f9"
      },
      "outputs": [
        {
          "name": "stdout",
          "output_type": "stream",
          "text": [
            "읽은 파일명: ./data/naver_shop_여성니트.csv\n",
            "이미지 폴더 위치 : ./image/download/\n",
            "[01] : https://shopping-phinf.pstatic.net/main_8110549/81105494642.jpg\n",
            "[02] : https://shopping-phinf.pstatic.net/main_8227052/82270521487.3.jpg\n",
            "[03] : https://shopping-phinf.pstatic.net/main_8201676/82016764964.15.jpg\n",
            "[04] : https://shopping-phinf.pstatic.net/main_4239133/42391336405.20231014071141.jpg\n",
            "[05] : https://shopping-phinf.pstatic.net/main_1065955/10659550627.5.jpg\n",
            "[06] : https://shopping-phinf.pstatic.net/main_4287907/42879071610.20230926080053.jpg\n",
            "[07] : https://shopping-phinf.pstatic.net/main_4189969/41899691388.20230817034832.jpg\n",
            "[08] : https://shopping-phinf.pstatic.net/main_8223769/82237690733.jpg\n",
            "[09] : https://shopping-phinf.pstatic.net/main_3947443/39474430403.20230919013004.jpg\n",
            "[10] : https://shopping-phinf.pstatic.net/main_8201675/82016750293.1.jpg\n",
            "총 다운로드 건수: 10\n"
          ]
        }
      ],
      "source": [
        "# 이미지 다운로드 하기\n",
        "import pandas as pd\n",
        "import requests\n",
        "from io import BytesIO\n",
        "from PIL import Image\n",
        "import time\n",
        "import os\n",
        "\n",
        "FILE = './data/naver_shop_여성니트.csv'  # 앞에서 자신이 검색한 쇼핑 파일\n",
        "ImgFolder = './image/download/'         # 다운받을 이미지 폴더\n",
        "MAX = 10                                # 이미지 파일 다운로드 건수\n",
        "\n",
        "def getImageUrl(file):\n",
        "    print(f'읽은 파일명: {file}')\n",
        "    df = pd.read_csv(file, encoding='utf-8') # 이미지가 있는 쇼핑 파일 불러오기\n",
        "    return df['이미지'].to_list()\n",
        "\n",
        "def createDirectory(directory): # 다운받을 이미지 폴더 만들기\n",
        "    try:\n",
        "        if not os.path.exists(directory):\n",
        "            print(f'{directory} 폴더가 생성되었습니다.')\n",
        "            os.makedirs(directory)\n",
        "        print(f'이미지 폴더 위치 : {directory}')\n",
        "    except OSError:\n",
        "        print(\"Error: Failed to create the directory.\")\n",
        "\n",
        "def downloadImageFile(urls, imgfolder):\n",
        "    start = time.time()             # 이미지 다운로드 속도 time check\n",
        "    for idx, url in enumerate(urls):\n",
        "        if idx == MAX:\n",
        "            break  # MAX 건수만 처리하기\n",
        "        res = requests.get(url)     # request.get 요청\n",
        "#         print(f'[{idx+1:2>}][{time.time() - start}] : {url}')  # 이미지 다운로드 시간 체크\n",
        "        print(f'[{idx+1:0>2}] : {url}')  # 이미지 다운로드 시간 체크\n",
        "        img = Image.open(BytesIO(res.content))  #Img open\n",
        "        img.save(f'{imgfolder}testimage_{idx}.png', 'png')\n",
        "    return idx\n",
        "\n",
        "\n",
        "urls = getImageUrl(FILE)                # 이미지 URL 목록 가져오기\n",
        "createDirectory(ImgFolder)              # 다운받을 이미지 폴더 만들기\n",
        "totalcnt = downloadImageFile(urls, imgfolder)      # 이미지 다운로드하기\n",
        "print(f'총 다운로드 건수: {totalcnt}')\n"
      ]
    },
    {
      "cell_type": "markdown",
      "id": "fb18b237",
      "metadata": {
        "id": "fb18b237"
      },
      "source": [
        "---------------------------"
      ]
    },
    {
      "cell_type": "markdown",
      "id": "f3f8c4b3",
      "metadata": {
        "id": "f3f8c4b3"
      },
      "source": [
        "--------"
      ]
    },
    {
      "cell_type": "markdown",
      "id": "7fbc75ee",
      "metadata": {
        "id": "7fbc75ee"
      },
      "source": [
        "## [주의!!!] 아래 내용은 ChatGPT를 OpenAPI를 이용해서 사용하는 방법으로 각자 사용할 수 있는 API 사용량이 있어야 오류없이 실행 가능하다."
      ]
    },
    {
      "cell_type": "markdown",
      "id": "c8f7a03b",
      "metadata": {
        "id": "c8f7a03b"
      },
      "source": [
        "## 02.OpenAI OpenAPI 사용하기(ChatGPT)"
      ]
    },
    {
      "cell_type": "markdown",
      "id": "d1b73f62",
      "metadata": {
        "id": "d1b73f62"
      },
      "source": [
        "### # 1.OpenAI OpenAPI 신청하기\n",
        "\n",
        "- 참고 : https://passwd.tistory.com/entry/Python-OpenAI-API-%EC%82%AC%EC%9A%A9%ED%95%98%EA%B8%B0\n",
        "\n",
        "        \n",
        "### 작업 순서\n",
        "https://platform.openai.com/docs/api-reference/introduction\n",
        " 1. Introduction(openai 모듈 설치하기) : https://platform.openai.com/docs/libraries/community-libraries\n",
        " 2. openai API KEY: Authentication(Secret Key 발급받기) : https://platform.openai.com/account/api-keys  </br>\n",
        " 3. API 코드 작성하기\n",
        " 4. 자신이 사용한 API 사용량 확인하기: https://platform.openai.com/account/usage"
      ]
    },
    {
      "cell_type": "markdown",
      "id": "9328869c",
      "metadata": {
        "id": "9328869c"
      },
      "source": [
        "### 1. openai 모듈 설치하기"
      ]
    },
    {
      "cell_type": "code",
      "execution_count": null,
      "id": "26784b14",
      "metadata": {
        "id": "26784b14"
      },
      "outputs": [],
      "source": [
        "!pip install openai"
      ]
    },
    {
      "cell_type": "markdown",
      "id": "968194c9",
      "metadata": {
        "id": "968194c9"
      },
      "source": [
        "### 2. openai API 신청하기\n",
        "- https://platform.openai.com/account/api-keys"
      ]
    },
    {
      "cell_type": "markdown",
      "id": "577beefb",
      "metadata": {
        "id": "577beefb"
      },
      "source": [
        "### 3. API 코드 작성하기"
      ]
    },
    {
      "cell_type": "markdown",
      "id": "81501eb0",
      "metadata": {
        "id": "81501eb0"
      },
      "source": [
        "### [실습문제] OpenAI 모델 목록 확인하기"
      ]
    },
    {
      "cell_type": "code",
      "execution_count": null,
      "id": "48b82ccd",
      "metadata": {
        "id": "48b82ccd"
      },
      "outputs": [],
      "source": [
        "# API 키 입력하기\n",
        "YOUR_API_KEY = \"\""
      ]
    },
    {
      "cell_type": "code",
      "execution_count": null,
      "id": "c200e488",
      "metadata": {
        "id": "c200e488"
      },
      "outputs": [],
      "source": [
        "import os\n",
        "import openai\n",
        "\n",
        "openai.organization = YOUR_ORG\n",
        "openai.api_key = YOUR_API_KEY\n",
        "openai.Model.list()"
      ]
    },
    {
      "cell_type": "markdown",
      "id": "72f9715f",
      "metadata": {
        "id": "72f9715f"
      },
      "source": [
        "### [실습문제] ChatGPT로 챗봇 만들기\n",
        "\n",
        "- https://jaeyung1001.tistory.com/entry/Slack-ChatGPT-Slack-%EC%B1%97%EB%B4%87-%EB%A7%8C%EB%93%A4%EA%B8%B0-1%ED%8E%B8"
      ]
    },
    {
      "cell_type": "code",
      "execution_count": null,
      "id": "41b16274",
      "metadata": {
        "id": "41b16274"
      },
      "outputs": [],
      "source": [
        "import os\n",
        "import openai\n",
        "\n",
        "def ChatGPT(prompt, ORG=YOUR_ORG, API_KEY=YOUR_API_KEY):\n",
        "    # api key 세팅\n",
        "    openai.organization = ORG\n",
        "    openai.api_key = API_KEY\n",
        "\n",
        "    # ChatGPT API 호출 및 최신 언어 모델인 text-davinci-003을 가져옴\n",
        "    response = openai.Completion.create(\n",
        "        engine='gpt-3.5-turbo'  # text-davinci-003'text-curie-001'  # 'text-babbage-001' #'text-ada-001'\n",
        "        , prompt=prompt\n",
        "        , temperature=0.5\n",
        "        , max_tokens=1024\n",
        "        , top_p=1\n",
        "        , frequency_penalty=0\n",
        "        , presence_penalty=0)\n",
        "\n",
        "    return response['choices'][0]['text']\n",
        "\n",
        "\n",
        "def main():\n",
        "    # 지문 입력 란\n",
        "    prompt = input(\"[Question] 질문을 입력해 주세요: \")\n",
        "    print('[Answer]:  ')\n",
        "    print(ChatGPT(prompt).strip())\n",
        "\n",
        "\n",
        "if __name__ == '__main__':\n",
        "    main()"
      ]
    },
    {
      "cell_type": "markdown",
      "id": "304ef51d",
      "metadata": {
        "id": "304ef51d"
      },
      "source": [
        "#### [RateLimitError 오류 예외처리 적용]"
      ]
    },
    {
      "cell_type": "markdown",
      "id": "9563eaab",
      "metadata": {
        "id": "9563eaab"
      },
      "source": [
        "- 질문: 재미있는 블로그 이름 50개 추천해줘\n",
        "- 질문: 방금 알려준 블로그 이름을 제목과 분류기준으로 나누어서 csv 형태로 만들어줘.\n",
        "- 질문: 웃긴이야기 블로그에 들어갈 블로그 글을 재미있는 예제 2개를 넣어서 markdown 형식으로 1000자 이내로 블로그 글을 작성해줘."
      ]
    },
    {
      "cell_type": "code",
      "execution_count": null,
      "id": "412e3410",
      "metadata": {
        "id": "412e3410"
      },
      "outputs": [],
      "source": [
        "import os\n",
        "import sys\n",
        "import openai\n",
        "\n",
        "\n",
        "# ChatGPT 사용하기\n",
        "def ChatGPT(prompt, API_KEY=YOUR_API_KEY):\n",
        "    # api key 세팅\n",
        "    openai.api_key = API_KEY\n",
        "\n",
        "    # ChatGPT API 호출 및 최신 언어 모델인 text-davinci-003을 가져옴\n",
        "    response = openai.Completion.create(\n",
        "        engine='gpt-3.5-turbo-0613'  # 'text-davinci-003' 'text-curie-001' 'text-babbage-001' 'text-ada-001'\n",
        "        , prompt=prompt\n",
        "        , temperature=0.5\n",
        "        , max_tokens=1024\n",
        "        , top_p=1\n",
        "        , frequency_penalty=0\n",
        "        , presence_penalty=0)\n",
        "\n",
        "    return response['choices'][0]['text']\n",
        "\n",
        "# 메인\n",
        "def main():\n",
        "    # 지문 입력 란\n",
        "    try:\n",
        "        print(\"[ChatGPTBot]: 프로그램을 시작합니다.\\n\\t종료하려면 [myQ]상태에서 q를 입력하세요.\")\n",
        "        print()\n",
        "        while True:\n",
        "            prompt = input(\"[myQ]: \")\n",
        "            if prompt == 'q':\n",
        "                print('[ChatGPTBot]: 프로그램을 종료합니다.')\n",
        "                break\n",
        "\n",
        "            print()\n",
        "            print('[ChatGPTBot]:', ChatGPT(prompt).strip() )\n",
        "            print()\n",
        "        # sys.exit()\n",
        "\n",
        "    except Exception as e:  # 예외처리하기\n",
        "        if str(e).find('RateLimitError'):\n",
        "            print()\n",
        "            print(\"RateLimitError: chatGPT 서버에 연결이 원활하지 않습니다.\")\n",
        "            print(\"잠시후 다시 시도해 주세요.\")\n",
        "        else:\n",
        "            print(e)\n",
        "\n",
        "if __name__ == '__main__':\n",
        "    main()"
      ]
    },
    {
      "cell_type": "markdown",
      "id": "7f6fb54f",
      "metadata": {
        "id": "7f6fb54f"
      },
      "source": [
        "### 4. 자신이 사용한 API 사용량 확인하기:\n",
        "https://platform.openai.com/account/usage"
      ]
    },
    {
      "cell_type": "markdown",
      "id": "3c35ae90",
      "metadata": {
        "id": "3c35ae90"
      },
      "source": [
        "----------------"
      ]
    },
    {
      "cell_type": "markdown",
      "id": "dd06d7e8",
      "metadata": {
        "id": "dd06d7e8"
      },
      "source": [
        "끝!"
      ]
    }
  ],
  "metadata": {
    "kernelspec": {
      "display_name": "Python 3 (ipykernel)",
      "language": "python",
      "name": "python3"
    },
    "language_info": {
      "codemirror_mode": {
        "name": "ipython",
        "version": 3
      },
      "file_extension": ".py",
      "mimetype": "text/x-python",
      "name": "python",
      "nbconvert_exporter": "python",
      "pygments_lexer": "ipython3",
      "version": "3.10.9"
    },
    "colab": {
      "provenance": [],
      "include_colab_link": true
    }
  },
  "nbformat": 4,
  "nbformat_minor": 5
}